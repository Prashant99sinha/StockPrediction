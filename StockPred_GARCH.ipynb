{
 "cells": [
  {
   "cell_type": "code",
   "execution_count": 2,
   "id": "9e3c0a9b",
   "metadata": {},
   "outputs": [
    {
     "name": "stdout",
     "output_type": "stream",
     "text": [
      "Requirement already satisfied: pandas in c:\\users\\prashant\\anaconda3\\lib\\site-packages (1.5.3)\n",
      "Requirement already satisfied: numpy in c:\\users\\prashant\\anaconda3\\lib\\site-packages (1.23.5)\n",
      "Collecting yfinance\n",
      "  Downloading yfinance-0.2.43-py2.py3-none-any.whl (84 kB)\n",
      "     -------------------------------------- 84.6/84.6 kB 952.7 kB/s eta 0:00:00\n",
      "Requirement already satisfied: statsmodels in c:\\users\\prashant\\anaconda3\\lib\\site-packages (0.13.5)\n",
      "Requirement already satisfied: scikit-learn in c:\\users\\prashant\\anaconda3\\lib\\site-packages (1.2.1)\n",
      "Requirement already satisfied: python-dateutil>=2.8.1 in c:\\users\\prashant\\anaconda3\\lib\\site-packages (from pandas) (2.8.2)\n",
      "Requirement already satisfied: pytz>=2020.1 in c:\\users\\prashant\\anaconda3\\lib\\site-packages (from pandas) (2022.7)\n",
      "Requirement already satisfied: platformdirs>=2.0.0 in c:\\users\\prashant\\anaconda3\\lib\\site-packages (from yfinance) (2.5.2)\n",
      "Collecting requests>=2.31\n",
      "  Downloading requests-2.32.3-py3-none-any.whl (64 kB)\n",
      "     ---------------------------------------- 64.9/64.9 kB 1.8 MB/s eta 0:00:00\n",
      "Requirement already satisfied: beautifulsoup4>=4.11.1 in c:\\users\\prashant\\anaconda3\\lib\\site-packages (from yfinance) (4.11.1)\n",
      "Collecting frozendict>=2.3.4\n",
      "  Downloading frozendict-2.4.4-cp310-cp310-win_amd64.whl (37 kB)\n",
      "Collecting html5lib>=1.1\n",
      "  Downloading html5lib-1.1-py2.py3-none-any.whl (112 kB)\n",
      "     ------------------------------------ 112.2/112.2 kB 296.3 kB/s eta 0:00:00\n",
      "Collecting multitasking>=0.0.7\n",
      "  Downloading multitasking-0.0.11-py3-none-any.whl (8.5 kB)\n",
      "Requirement already satisfied: lxml>=4.9.1 in c:\\users\\prashant\\anaconda3\\lib\\site-packages (from yfinance) (4.9.1)\n",
      "Collecting peewee>=3.16.2\n",
      "  Downloading peewee-3.17.6.tar.gz (3.0 MB)\n",
      "     ---------------------------------------- 3.0/3.0 MB 1.2 MB/s eta 0:00:00\n",
      "  Installing build dependencies: started\n",
      "  Installing build dependencies: finished with status 'done'\n",
      "  Getting requirements to build wheel: started\n",
      "  Getting requirements to build wheel: finished with status 'done'\n",
      "  Preparing metadata (pyproject.toml): started\n",
      "  Preparing metadata (pyproject.toml): finished with status 'done'\n",
      "Requirement already satisfied: scipy>=1.3 in c:\\users\\prashant\\anaconda3\\lib\\site-packages (from statsmodels) (1.10.0)\n",
      "Requirement already satisfied: patsy>=0.5.2 in c:\\users\\prashant\\anaconda3\\lib\\site-packages (from statsmodels) (0.5.3)\n",
      "Requirement already satisfied: packaging>=21.3 in c:\\users\\prashant\\anaconda3\\lib\\site-packages (from statsmodels) (22.0)\n",
      "Requirement already satisfied: joblib>=1.1.1 in c:\\users\\prashant\\anaconda3\\lib\\site-packages (from scikit-learn) (1.1.1)\n",
      "Requirement already satisfied: threadpoolctl>=2.0.0 in c:\\users\\prashant\\anaconda3\\lib\\site-packages (from scikit-learn) (2.2.0)\n",
      "Requirement already satisfied: soupsieve>1.2 in c:\\users\\prashant\\anaconda3\\lib\\site-packages (from beautifulsoup4>=4.11.1->yfinance) (2.3.2.post1)\n",
      "Requirement already satisfied: six>=1.9 in c:\\users\\prashant\\anaconda3\\lib\\site-packages (from html5lib>=1.1->yfinance) (1.16.0)\n",
      "Requirement already satisfied: webencodings in c:\\users\\prashant\\anaconda3\\lib\\site-packages (from html5lib>=1.1->yfinance) (0.5.1)\n",
      "Requirement already satisfied: certifi>=2017.4.17 in c:\\users\\prashant\\anaconda3\\lib\\site-packages (from requests>=2.31->yfinance) (2023.5.7)\n",
      "Requirement already satisfied: idna<4,>=2.5 in c:\\users\\prashant\\anaconda3\\lib\\site-packages (from requests>=2.31->yfinance) (3.4)\n",
      "Requirement already satisfied: urllib3<3,>=1.21.1 in c:\\users\\prashant\\anaconda3\\lib\\site-packages (from requests>=2.31->yfinance) (1.26.14)\n",
      "Requirement already satisfied: charset-normalizer<4,>=2 in c:\\users\\prashant\\anaconda3\\lib\\site-packages (from requests>=2.31->yfinance) (2.0.4)\n",
      "Building wheels for collected packages: peewee\n",
      "  Building wheel for peewee (pyproject.toml): started\n",
      "  Building wheel for peewee (pyproject.toml): finished with status 'done'\n",
      "  Created wheel for peewee: filename=peewee-3.17.6-py3-none-any.whl size=138938 sha256=fbba80821559d8a26080164a882f8a081eb8dbec4e737313f5fb3d85827e5423\n",
      "  Stored in directory: c:\\users\\prashant\\appdata\\local\\pip\\cache\\wheels\\ee\\67\\14\\8bcb7972056076fb11e959bbda198722e3d0ca73b5fde53f3b\n",
      "Successfully built peewee\n",
      "Installing collected packages: peewee, multitasking, requests, html5lib, frozendict, yfinance\n",
      "  Attempting uninstall: requests\n",
      "    Found existing installation: requests 2.28.1\n",
      "    Uninstalling requests-2.28.1:\n",
      "      Successfully uninstalled requests-2.28.1\n",
      "Successfully installed frozendict-2.4.4 html5lib-1.1 multitasking-0.0.11 peewee-3.17.6 requests-2.32.3 yfinance-0.2.43\n"
     ]
    },
    {
     "name": "stderr",
     "output_type": "stream",
     "text": [
      "ERROR: pip's dependency resolver does not currently take into account all the packages that are installed. This behaviour is the source of the following dependency conflicts.\n",
      "conda-repo-cli 1.0.41 requires requests_mock, which is not installed.\n",
      "tensorboard 2.10.0 requires protobuf<3.20,>=3.9.2, but you have protobuf 3.20.3 which is incompatible.\n",
      "conda-repo-cli 1.0.41 requires clyent==1.2.1, but you have clyent 1.2.2 which is incompatible.\n",
      "conda-repo-cli 1.0.41 requires nbformat==5.4.0, but you have nbformat 5.7.0 which is incompatible.\n",
      "conda-repo-cli 1.0.41 requires requests==2.28.1, but you have requests 2.32.3 which is incompatible.\n"
     ]
    },
    {
     "name": "stdout",
     "output_type": "stream",
     "text": [
      "Collecting arch\n",
      "  Downloading arch-7.0.0-cp310-cp310-win_amd64.whl (925 kB)\n",
      "     -------------------------------------- 925.2/925.2 kB 1.9 MB/s eta 0:00:00\n",
      "Requirement already satisfied: pandas>=1.4 in c:\\users\\prashant\\anaconda3\\lib\\site-packages (from arch) (1.5.3)\n",
      "Requirement already satisfied: statsmodels>=0.12 in c:\\users\\prashant\\anaconda3\\lib\\site-packages (from arch) (0.13.5)\n",
      "Requirement already satisfied: numpy>=1.22.3 in c:\\users\\prashant\\anaconda3\\lib\\site-packages (from arch) (1.23.5)\n",
      "Requirement already satisfied: scipy>=1.8 in c:\\users\\prashant\\anaconda3\\lib\\site-packages (from arch) (1.10.0)\n",
      "Requirement already satisfied: pytz>=2020.1 in c:\\users\\prashant\\anaconda3\\lib\\site-packages (from pandas>=1.4->arch) (2022.7)\n",
      "Requirement already satisfied: python-dateutil>=2.8.1 in c:\\users\\prashant\\anaconda3\\lib\\site-packages (from pandas>=1.4->arch) (2.8.2)\n",
      "Requirement already satisfied: packaging>=21.3 in c:\\users\\prashant\\anaconda3\\lib\\site-packages (from statsmodels>=0.12->arch) (22.0)\n",
      "Requirement already satisfied: patsy>=0.5.2 in c:\\users\\prashant\\anaconda3\\lib\\site-packages (from statsmodels>=0.12->arch) (0.5.3)\n",
      "Requirement already satisfied: six in c:\\users\\prashant\\anaconda3\\lib\\site-packages (from patsy>=0.5.2->statsmodels>=0.12->arch) (1.16.0)\n",
      "Installing collected packages: arch\n",
      "Successfully installed arch-7.0.0\n"
     ]
    }
   ],
   "source": [
    "!pip install pandas numpy yfinance statsmodels scikit-learn\n",
    "!pip install arch"
   ]
  },
  {
   "cell_type": "code",
   "execution_count": 19,
   "id": "05fdf68f",
   "metadata": {},
   "outputs": [],
   "source": [
    "import numpy as np\n",
    "import pandas as pd\n",
    "import yfinance as yf\n",
    "from statsmodels.tsa.arima.model import ARIMA\n",
    "from arch import arch_model"
   ]
  },
  {
   "cell_type": "code",
   "execution_count": 4,
   "id": "00938904",
   "metadata": {},
   "outputs": [
    {
     "name": "stderr",
     "output_type": "stream",
     "text": [
      "\r",
      "[*********************100%***********************]  1 of 1 completed"
     ]
    },
    {
     "name": "stdout",
     "output_type": "stream",
     "text": [
      "Date\n",
      "2020-01-02    72.876106\n",
      "2020-01-03    72.167618\n",
      "2020-01-06    72.742661\n",
      "2020-01-07    72.400536\n",
      "2020-01-08    73.565193\n",
      "Name: Adj Close, dtype: float64\n",
      "Date\n",
      "2024-08-21    226.399994\n",
      "2024-08-22    224.529999\n",
      "2024-08-23    226.839996\n",
      "2024-08-26    227.179993\n",
      "2024-08-27    228.029999\n",
      "Name: Adj Close, dtype: float64\n"
     ]
    },
    {
     "name": "stderr",
     "output_type": "stream",
     "text": [
      "\n"
     ]
    }
   ],
   "source": [
    "stock_symbol = 'AAPL'  # Example stock symbol\n",
    "data = yf.download(stock_symbol, start='2020-01-01', end='2024-08-28')\n",
    "data = data['Adj Close']  # Use adjusted closing prices\n",
    "data = data.dropna()\n",
    "\n",
    "print(data.head())\n",
    "print(data.tail())"
   ]
  },
  {
   "cell_type": "code",
   "execution_count": 5,
   "id": "b60bfd83",
   "metadata": {},
   "outputs": [
    {
     "name": "stdout",
     "output_type": "stream",
     "text": [
      "Date\n",
      "2020-01-03   -0.009722\n",
      "2020-01-06    0.007968\n",
      "2020-01-07   -0.004703\n",
      "2020-01-08    0.016086\n",
      "2020-01-09    0.021241\n",
      "Name: Adj Close, dtype: float64\n"
     ]
    }
   ],
   "source": [
    "returns = data.pct_change().dropna()\n",
    "\n",
    "print(returns.head())"
   ]
  },
  {
   "cell_type": "code",
   "execution_count": 6,
   "id": "fc415680",
   "metadata": {},
   "outputs": [
    {
     "name": "stderr",
     "output_type": "stream",
     "text": [
      "C:\\Users\\PRASHANT\\anaconda3\\lib\\site-packages\\statsmodels\\tsa\\base\\tsa_model.py:471: ValueWarning: A date index has been provided, but it has no associated frequency information and so will be ignored when e.g. forecasting.\n",
      "  self._init_dates(dates, freq)\n",
      "C:\\Users\\PRASHANT\\anaconda3\\lib\\site-packages\\statsmodels\\tsa\\base\\tsa_model.py:471: ValueWarning: A date index has been provided, but it has no associated frequency information and so will be ignored when e.g. forecasting.\n",
      "  self._init_dates(dates, freq)\n",
      "C:\\Users\\PRASHANT\\anaconda3\\lib\\site-packages\\statsmodels\\tsa\\base\\tsa_model.py:471: ValueWarning: A date index has been provided, but it has no associated frequency information and so will be ignored when e.g. forecasting.\n",
      "  self._init_dates(dates, freq)\n"
     ]
    },
    {
     "name": "stdout",
     "output_type": "stream",
     "text": [
      "                     Constant Mean - GARCH Model Results                      \n",
      "==============================================================================\n",
      "Dep. Variable:                   None   R-squared:                       0.000\n",
      "Mean Model:             Constant Mean   Adj. R-squared:                  0.000\n",
      "Vol Model:                      GARCH   Log-Likelihood:                3014.56\n",
      "Distribution:                  Normal   AIC:                          -6021.12\n",
      "Method:            Maximum Likelihood   BIC:                          -6000.86\n",
      "                                        No. Observations:                 1170\n",
      "Date:                Sat, Aug 31 2024   Df Residuals:                     1169\n",
      "Time:                        15:13:54   Df Model:                            1\n",
      "                                  Mean Model                                 \n",
      "=============================================================================\n",
      "                 coef    std err          t      P>|t|       95.0% Conf. Int.\n",
      "-----------------------------------------------------------------------------\n",
      "mu         6.0684e-04  6.044e-04      1.004      0.315 [-5.778e-04,1.791e-03]\n",
      "                              Volatility Model                              \n",
      "============================================================================\n",
      "                 coef    std err          t      P>|t|      95.0% Conf. Int.\n",
      "----------------------------------------------------------------------------\n",
      "omega      8.2284e-06  3.264e-11  2.521e+05      0.000 [8.228e-06,8.228e-06]\n",
      "alpha[1]       0.1000  3.358e-02      2.978  2.902e-03   [3.418e-02,  0.166]\n",
      "beta[1]        0.8800  2.926e-02     30.075 1.030e-198     [  0.823,  0.937]\n",
      "============================================================================\n",
      "\n",
      "Covariance estimator: robust\n"
     ]
    },
    {
     "name": "stderr",
     "output_type": "stream",
     "text": [
      "C:\\Users\\PRASHANT\\anaconda3\\lib\\site-packages\\arch\\univariate\\base.py:311: DataScaleWarning: y is poorly scaled, which may affect convergence of the optimizer when\n",
      "estimating the model parameters. The scale of y is 0.0004114. Parameter\n",
      "estimation work better when this value is between 1 and 1000. The recommended\n",
      "rescaling is 100 * y.\n",
      "\n",
      "This warning can be disabled by either rescaling y before initializing the\n",
      "model or by setting rescale=False.\n",
      "\n",
      "  warnings.warn(\n"
     ]
    }
   ],
   "source": [
    "# Fit an ARIMA model to capture mean behavior (optional)\n",
    "arima_model = ARIMA(returns, order=(1, 0, 0)).fit()\n",
    "\n",
    "# Fit a GARCH model to capture volatility\n",
    "garch_model = arch_model(arima_model.resid, vol='Garch', p=1, q=1)\n",
    "garch_result = garch_model.fit(disp='off')\n",
    "\n",
    "print(garch_result.summary())"
   ]
  },
  {
   "cell_type": "code",
   "execution_count": 7,
   "id": "614d02ef",
   "metadata": {},
   "outputs": [
    {
     "name": "stdout",
     "output_type": "stream",
     "text": [
      "                 h.1      h.2       h.3       h.4       h.5\n",
      "Date                                                       \n",
      "2024-08-27  0.012621  0.01282  0.013011  0.013196  0.013374\n"
     ]
    }
   ],
   "source": [
    "# Forecast future volatility\n",
    "forecast_horizon = 5  # Number of days to forecast\n",
    "forecast = garch_result.forecast(horizon=forecast_horizon)\n",
    "forecast_variance = forecast.variance[-1:]\n",
    "\n",
    "# Calculate the predicted returns\n",
    "predicted_volatility = forecast_variance ** 0.5  # Volatility is the square root of variance\n",
    "print(predicted_volatility)"
   ]
  },
  {
   "cell_type": "code",
   "execution_count": 8,
   "id": "09f68387",
   "metadata": {},
   "outputs": [
    {
     "name": "stdout",
     "output_type": "stream",
     "text": [
      "Low volatility predicted, consider buying.\n"
     ]
    }
   ],
   "source": [
    "# Example simple decision logic based on volatility forecast\n",
    "threshold = 0.02  # Set a threshold for decision making\n",
    "\n",
    "if predicted_volatility.iloc[-1, 0] > threshold:\n",
    "    print(\"High volatility predicted, consider selling or holding.\")\n",
    "else:\n",
    "    print(\"Low volatility predicted, consider buying.\")"
   ]
  }
 ],
 "metadata": {
  "kernelspec": {
   "display_name": "Python 3 (ipykernel)",
   "language": "python",
   "name": "python3"
  },
  "language_info": {
   "codemirror_mode": {
    "name": "ipython",
    "version": 3
   },
   "file_extension": ".py",
   "mimetype": "text/x-python",
   "name": "python",
   "nbconvert_exporter": "python",
   "pygments_lexer": "ipython3",
   "version": "3.10.9"
  }
 },
 "nbformat": 4,
 "nbformat_minor": 5
}
